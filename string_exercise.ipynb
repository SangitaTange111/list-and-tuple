{
 "cells": [
  {
   "cell_type": "markdown",
   "id": "824cb43a-962c-4c07-9215-49646745e6f9",
   "metadata": {},
   "source": [
    " \t\n",
    " \t\n",
    " \t\n",
    " \t##### Write a Python code to check if the word \"learn\" is in the sentence \"Let's all learn Python!\".\n",
    " \t##### Convert the string \"hello world\" to uppercase.\n",
    " \t##### Concatenate two strings: \"Data\" and \"Analysis\".\n",
    " \t##### Replace all occurrences of \"a\" with \"@\" in the string \"DataAnalytics\".\n",
    " \t##### Write a Python code to reverse the string \"Python\".\n",
    " \t##### Count how many times the letter \"e\" appears in the string \"Experience\".\n",
    " \t##### Split the string \"Learn,Analyze,Build\" into a list of words.\n",
    "\n"
   ]
  },
  {
   "cell_type": "markdown",
   "id": "9e362411-fae9-48ae-a8f7-a5570dafd7d5",
   "metadata": {},
   "source": [
    "##### Create a string variable with your full name."
   ]
  },
  {
   "cell_type": "markdown",
   "id": "93c3df01-c9d4-4ef4-a41c-16f1cc3c0a31",
   "metadata": {},
   "source": [
    "##### What is the length of the string \"PythonProgramming\"?"
   ]
  },
  {
   "cell_type": "markdown",
   "id": "513c4b0d-7303-4ca1-83fc-47462537140a",
   "metadata": {},
   "source": [
    "##### How would you extract the first three characters of the string \"DataScience\"?"
   ]
  },
  {
   "cell_type": "code",
   "execution_count": null,
   "id": "c646df2a-a82d-4bf9-8425-db8af2eb5606",
   "metadata": {},
   "outputs": [],
   "source": []
  }
 ],
 "metadata": {
  "kernelspec": {
   "display_name": "Python 3 (ipykernel)",
   "language": "python",
   "name": "python3"
  },
  "language_info": {
   "codemirror_mode": {
    "name": "ipython",
    "version": 3
   },
   "file_extension": ".py",
   "mimetype": "text/x-python",
   "name": "python",
   "nbconvert_exporter": "python",
   "pygments_lexer": "ipython3",
   "version": "3.11.7"
  }
 },
 "nbformat": 4,
 "nbformat_minor": 5
}
